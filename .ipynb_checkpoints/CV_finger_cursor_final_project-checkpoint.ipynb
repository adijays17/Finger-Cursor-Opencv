{
 "cells": [
  {
   "cell_type": "markdown",
   "metadata": {},
   "source": [
    "<H1>EECS 332: Intro to computer vision</H1>\n"
   ]
  },
  {
   "cell_type": "markdown",
   "metadata": {},
   "source": [
    "<H2>Final Project - Finger Cursor<H2>"
   ]
  },
  {
   "cell_type": "markdown",
   "metadata": {},
   "source": [
    "<H3>Submitted by: Aditya Kumar</H3>\n",
    "<H3>AKE9173</H3>"
   ]
  },
  {
   "cell_type": "markdown",
   "metadata": {},
   "source": [
    "<H3>Import mandatory packages</H3>"
   ]
  },
  {
   "cell_type": "code",
   "execution_count": 1,
   "metadata": {},
   "outputs": [],
   "source": [
    "import cv2\n",
    "import numpy as np\n",
    "import math\n",
    "import mouse"
   ]
  },
  {
   "cell_type": "markdown",
   "metadata": {},
   "source": [
    "<H3>Function to create sub window</H3>"
   ]
  },
  {
   "cell_type": "code",
   "execution_count": 18,
   "metadata": {},
   "outputs": [],
   "source": [
    "def create_sub_window(img):\n",
    "    # get hand data from the rectangle sub window on the screen\n",
    "    cv2.rectangle(img, (400,400), (100,100), (0,255,0),0)\n",
    "    crop_img = img[100:400, 100:400]\n",
    "    return crop_img"
   ]
  },
  {
   "cell_type": "markdown",
   "metadata": {},
   "source": [
    "<H3>Function to perform image preprocessing</H3>"
   ]
  },
  {
   "cell_type": "code",
   "execution_count": 3,
   "metadata": {},
   "outputs": [],
   "source": [
    "def image_preprocessing(img):\n",
    "    # convert to grayscale\n",
    "    grey = cv2.cvtColor(img, cv2.COLOR_BGR2GRAY)\n",
    "    \n",
    "    # applying gaussian blur\n",
    "    blurred_image = cv2.GaussianBlur(grey, (33, 33), 0)\n",
    "    return blurred_image"
   ]
  },
  {
   "cell_type": "markdown",
   "metadata": {},
   "source": [
    "<H3>Function to perform thresholding</H3>"
   ]
  },
  {
   "cell_type": "code",
   "execution_count": 4,
   "metadata": {},
   "outputs": [],
   "source": [
    "def thresholding(blurred):\n",
    "    # thresholdin: Otsu's Binarization method\n",
    "    _, thresh1 = cv2.threshold(blurred, 127, 255, cv2.THRESH_BINARY_INV+cv2.THRESH_OTSU)\n",
    "    # show thresholded image\n",
    "    cv2.imshow('Threshold', thresh1)\n",
    "    return thresh1"
   ]
  },
  {
   "cell_type": "markdown",
   "metadata": {},
   "source": [
    "<H3>Function to detect contour</H3>"
   ]
  },
  {
   "cell_type": "code",
   "execution_count": 5,
   "metadata": {},
   "outputs": [],
   "source": [
    "def contours_detection(thresh1):\n",
    "    # check OpenCV version to avoid unpacking error\n",
    "    (version, _, _) = cv2.__version__.split('.')\n",
    "    if version == '3':\n",
    "        _, contours, _ = cv2.findContours(thresh1.copy(), \\\n",
    "               cv2.RETR_TREE, cv2.CHAIN_APPROX_NONE)\n",
    "    elif version == '4':\n",
    "        contours, _ = cv2.findContours(thresh1.copy(),cv2.RETR_TREE, \\\n",
    "               cv2.CHAIN_APPROX_NONE)\n",
    "\n",
    "    # find contour with max area\n",
    "    max_contour_area = max(contours, key = lambda x: cv2.contourArea(x))\n",
    "    return max_contour_area, contours"
   ]
  },
  {
   "cell_type": "markdown",
   "metadata": {},
   "source": [
    "<H3>Function to detect topmost points</H3>"
   ]
  },
  {
   "cell_type": "code",
   "execution_count": 6,
   "metadata": {},
   "outputs": [],
   "source": [
    "def find_topmost_point_in_contour(cnt):\n",
    "    topmost = tuple(cnt[cnt[:, :, 1].argmin()][0])\n",
    "    topmost =  (topmost[0], topmost[1])\n",
    "    return topmost"
   ]
  },
  {
   "cell_type": "markdown",
   "metadata": {},
   "source": [
    "<H3>Function to detect convexity hulls</H3>"
   ]
  },
  {
   "cell_type": "code",
   "execution_count": 7,
   "metadata": {},
   "outputs": [],
   "source": [
    "def convex_hull_detection(cnt, crop_img):\n",
    "    # find convex hull\n",
    "    hull = cv2.convexHull(cnt)    \n",
    "\n",
    "    # drawing contours\n",
    "    drawing = np.zeros(crop_img.shape,np.uint8)\n",
    "    cv2.drawContours(drawing, [cnt], 0, (0, 255, 0), 0)\n",
    "    cv2.drawContours(drawing, [hull], 0,(0, 0, 255), 0)\n",
    "\n",
    "    # finding convex hull\n",
    "    hull = cv2.convexHull(cnt, returnPoints=False)\n",
    "    return hull, drawing"
   ]
  },
  {
   "cell_type": "markdown",
   "metadata": {},
   "source": [
    "<H3>Function to detect convexity defects</H3>"
   ]
  },
  {
   "cell_type": "code",
   "execution_count": 8,
   "metadata": {},
   "outputs": [],
   "source": [
    "def convexity_defects_detection(cnt, hull, thresh, contours):\n",
    "    # finding convexity defects\n",
    "    defects = cv2.convexityDefects(cnt, hull)\n",
    "    cv2.drawContours(thresh, contours, -1, (0, 255, 0), 3)\n",
    "    return defects"
   ]
  },
  {
   "cell_type": "markdown",
   "metadata": {},
   "source": [
    "<H3>Function to detect number of fingers.</H3>"
   ]
  },
  {
   "cell_type": "code",
   "execution_count": 14,
   "metadata": {},
   "outputs": [],
   "source": [
    "def finger_detection(defects, contour, crop_img, topmost):\n",
    "    # applying Cosine Rule to find angle for all defects (between fingers)\n",
    "    # angle greater than 90 degrees and ignore defects\n",
    "    count_defects = 0\n",
    "    for i in range(defects.shape[0]):\n",
    "        s,e,f,_ = defects[i,0]\n",
    "\n",
    "        start = tuple(contour[s][0])\n",
    "        end = tuple(contour[e][0])\n",
    "        far = tuple(contour[f][0])\n",
    "\n",
    "        # find length of all sides of triangle\n",
    "        side_a = math.sqrt((end[0] - start[0])**2 + (end[1] - start[1])**2)\n",
    "        side_b = math.sqrt((far[0] - start[0])**2 + (far[1] - start[1])**2)\n",
    "        side_c = math.sqrt((end[0] - far[0])**2 + (end[1] - far[1])**2)\n",
    "\n",
    "        # apply cosine rule here\n",
    "        angle = math.acos((side_b**2 + side_c**2 - side_a**2)/(2*side_b*side_c)) * 57\n",
    "\n",
    "        if angle <= 90:\n",
    "            count_defects += 1\n",
    "            cv2.circle(crop_img, far, 1, [0,0,255], -1)\n",
    "        \n",
    "        # draw a line from start to end i.e. the convex points\n",
    "        cv2.line(crop_img, start, end, [0,255,0], 2)\n",
    "    return count_defects"
   ]
  },
  {
   "cell_type": "markdown",
   "metadata": {},
   "source": [
    "<H3>Function to perform mouse operations. </H3>"
   ]
  },
  {
   "cell_type": "code",
   "execution_count": 15,
   "metadata": {},
   "outputs": [],
   "source": [
    "def perform_mouse_operations(count_defects, img, topmost):\n",
    "    # define actions required\n",
    "    if count_defects == 0:\n",
    "        cv2.putText(img,\"Detected 1 finger\", (50, 150), cv2.FONT_HERSHEY_SIMPLEX, 1, 2)\n",
    "        mouse.move(topmost[0], topmost[1])\n",
    "    if count_defects == 1:\n",
    "        cv2.putText(img,\"Detected 2 finger\", (50, 150), cv2.FONT_HERSHEY_SIMPLEX, 1, 2)\n",
    "        #mouse.click()\n",
    "    elif count_defects == 2:\n",
    "        cv2.putText(img, \"Detected 3 finger\", (50, 150), cv2.FONT_HERSHEY_SIMPLEX, 1, 2)\n",
    "        #mouse.double_click()\n",
    "    elif count_defects == 3:\n",
    "        cv2.putText(img,\"Detected 4 finger\", (50, 150), cv2.FONT_HERSHEY_SIMPLEX, 1, 2)\n",
    "        #mouse.right_click()\n",
    "    elif count_defects == 4:\n",
    "        cv2.putText(img,\"Detected entire hand\", (50, 150), cv2.FONT_HERSHEY_SIMPLEX, 1, 2)"
   ]
  },
  {
   "cell_type": "markdown",
   "metadata": {},
   "source": [
    "<H3>Main function to execute all above steps.</H3>"
   ]
  },
  {
   "cell_type": "code",
   "execution_count": 19,
   "metadata": {},
   "outputs": [],
   "source": [
    "def main():\n",
    "    cap = cv2.VideoCapture(0)\n",
    "    while(cap.isOpened()):\n",
    "        # read image\n",
    "        ret, img = cap.read()\n",
    "\n",
    "        # get hand data from the rectangle sub window on the screen\n",
    "        crop_img = create_sub_window(img)\n",
    "\n",
    "        # Perform image preprocessing\n",
    "        blurred = image_preprocessing(crop_img)\n",
    "\n",
    "        # thresholding: Otsu's Binarization method\n",
    "        thresh = thresholding(blurred)\n",
    "\n",
    "        # Contour detecion\n",
    "        cnt, contours = contours_detection(thresh)\n",
    "\n",
    "        #finding topmost point (top finger tip)\n",
    "        topmost_point = find_topmost_point_in_contour(cnt)\n",
    "        cv2.circle(crop_img, topmost_point, 1, [0,0,255], 2)\n",
    "\n",
    "        # create bounding rectangle around the contour\n",
    "        x, y, w, h = cv2.boundingRect(cnt)\n",
    "        cv2.rectangle(crop_img, (x, y), (x+w, y+h), (0, 0, 255), 0)\n",
    "\n",
    "        # find convex hull\n",
    "        hull, drawing = convex_hull_detection(cnt, crop_img)\n",
    "\n",
    "        # finding convexity defects\n",
    "        defects = convexity_defects_detection(cnt, hull, thresh, contours)\n",
    "\n",
    "        # Number of fingers detection on the basis of number of convexity defects detected\n",
    "        count_defects = finger_detection(defects, cnt, crop_img, topmost_point)\n",
    "\n",
    "        # define actions required\n",
    "        perform_mouse_operations(count_defects, img, topmost_point)\n",
    "\n",
    "        # show appropriate images in windows\n",
    "        cv2.imshow('Gesture', img)\n",
    "        all_img = np.hstack((drawing, crop_img))\n",
    "        cv2.imshow('Contours', all_img)\n",
    "\n",
    "        #Exit condition press ESC\n",
    "        if cv2.waitKey(1) == 27:\n",
    "            break\n",
    "\n",
    "    cv2.destroyAllWindows()\n",
    "    cap.release()"
   ]
  },
  {
   "cell_type": "code",
   "execution_count": 20,
   "metadata": {},
   "outputs": [],
   "source": [
    "main()"
   ]
  },
  {
   "cell_type": "code",
   "execution_count": null,
   "metadata": {},
   "outputs": [],
   "source": []
  }
 ],
 "metadata": {
  "kernelspec": {
   "display_name": "Python 3",
   "language": "python",
   "name": "python3"
  },
  "language_info": {
   "codemirror_mode": {
    "name": "ipython",
    "version": 3
   },
   "file_extension": ".py",
   "mimetype": "text/x-python",
   "name": "python",
   "nbconvert_exporter": "python",
   "pygments_lexer": "ipython3",
   "version": "3.7.3"
  }
 },
 "nbformat": 4,
 "nbformat_minor": 2
}
